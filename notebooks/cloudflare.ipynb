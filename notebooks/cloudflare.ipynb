{
 "cells": [
  {
   "cell_type": "code",
   "execution_count": 15,
   "id": "9fb73ce9",
   "metadata": {},
   "outputs": [
    {
     "name": "stdout",
     "output_type": "stream",
     "text": [
      "Status Code: 200\n",
      "Response JSON: {'results': [{'Rank': 1, 'Job Title': 'Data Analyst', 'Sector': 'Healthcare Services', 'Role': 'Data Scientist', 'Average Salary (Aggregated)': 270000.0, 'Distance Score': 39.090721130371094}, {'Rank': 2, 'Job Title': 'Data Analyst', 'Sector': 'Healthcare', 'Role': 'Data Scientist', 'Average Salary (Aggregated)': 347000.0, 'Distance Score': 40.02217102050781}, {'Rank': 3, 'Job Title': 'Business Analyst', 'Sector': 'Healthcare', 'Role': 'Data Business Analyst', 'Average Salary (Aggregated)': 276000.0, 'Distance Score': 41.003501892089844}, {'Rank': 4, 'Job Title': 'Data Analyst', 'Sector': 'Healthcare', 'Role': 'Business Intelligence Analyst', 'Average Salary (Aggregated)': 313500.0, 'Distance Score': 41.499908447265625}]}\n"
     ]
    }
   ],
   "source": [
    "import requests\n",
    "\n",
    "base_url = \"https://city-prix-boards-guestbook.trycloudflare.com\"\n",
    "\n",
    "data = {\"text\": \"I love coding and hospital and power bi\",'k':4}\n",
    "\n",
    "resp = requests.post(f\"{base_url}/recommend\", json=data)\n",
    "\n",
    "print(\"Status Code:\", resp.status_code)\n",
    "print(\"Response JSON:\", resp.json())"
   ]
  },
  {
   "cell_type": "code",
   "execution_count": null,
   "id": "b844d53b",
   "metadata": {},
   "outputs": [
    {
     "name": "stderr",
     "output_type": "stream",
     "text": [
      "& was unexpected at this time.\n"
     ]
    }
   ],
   "source": [
    "# & \"D:\\cloudflare\\cloudflared-windows-amd64.exe\" tunnel --url http://localhost:8000"
   ]
  },
  {
   "cell_type": "code",
   "execution_count": null,
   "id": "d39a7009",
   "metadata": {},
   "outputs": [],
   "source": []
  }
 ],
 "metadata": {
  "kernelspec": {
   "display_name": "Python 3",
   "language": "python",
   "name": "python3"
  },
  "language_info": {
   "codemirror_mode": {
    "name": "ipython",
    "version": 3
   },
   "file_extension": ".py",
   "mimetype": "text/x-python",
   "name": "python",
   "nbconvert_exporter": "python",
   "pygments_lexer": "ipython3",
   "version": "3.12.7"
  }
 },
 "nbformat": 4,
 "nbformat_minor": 5
}
