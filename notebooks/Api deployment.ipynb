{
 "cells": [
  {
   "cell_type": "code",
   "execution_count": 1,
   "id": "5e5b0969",
   "metadata": {},
   "outputs": [
    {
     "name": "stderr",
     "output_type": "stream",
     "text": [
      "c:\\Users\\HP - Victus\\AppData\\Local\\Programs\\Python\\Python312\\Lib\\site-packages\\tqdm\\auto.py:21: TqdmWarning: IProgress not found. Please update jupyter and ipywidgets. See https://ipywidgets.readthedocs.io/en/stable/user_install.html\n",
      "  from .autonotebook import tqdm as notebook_tqdm\n"
     ]
    },
    {
     "name": "stdout",
     "output_type": "stream",
     "text": [
      "WARNING:tensorflow:From c:\\Users\\HP - Victus\\AppData\\Local\\Programs\\Python\\Python312\\Lib\\site-packages\\tf_keras\\src\\losses.py:2976: The name tf.losses.sparse_softmax_cross_entropy is deprecated. Please use tf.compat.v1.losses.sparse_softmax_cross_entropy instead.\n",
      "\n"
     ]
    }
   ],
   "source": [
    "import numpy as np\n",
    "import pandas as pd\n",
    "import faiss\n",
    "import json\n",
    "from sentence_transformers import SentenceTransformer\n",
    "# Load model only for queries\n",
    "model = SentenceTransformer(\"multi-qa-mpnet-base-dot-v1\")\n",
    "# Load precomputed embeddings and job IDs\n",
    "job_embeddings = np.load(\"job_embeddings.npy\")\n",
    "enc_order = np.load(\"enc_order.npy\")   # dtype: int\n",
    "# Load FAISS index\n",
    "index = faiss.read_index(\"jobs.index\")\n",
    "trans_df_final=pd.read_csv(\"trans_df_final.csv\")"
   ]
  },
  {
   "cell_type": "code",
   "execution_count": 2,
   "id": "0c52b9cc",
   "metadata": {},
   "outputs": [],
   "source": [
    "def predict_top_3_safe(query, k=3):\n",
    "    qv = model.encode([query], convert_to_numpy=True)\n",
    "    distances, indices = index.search(qv, k)\n",
    "    results = []\n",
    "    for rank, idx in enumerate(indices[0]):\n",
    "        # safety checks:\n",
    "        if idx < 0 or idx >= len(enc_order):\n",
    "            continue\n",
    "        row_idx = int(enc_order[idx])          # actual df row index\n",
    "        job_info = trans_df_final.iloc[row_idx]\n",
    "        results.append({\n",
    "            \"Rank\": rank+1,\n",
    "            \"Job Title\": job_info['Job Title'],\n",
    "            \"Sector\": job_info['Sector'],\n",
    "            \"Role\": job_info['Role'],\n",
    "            \"Average Salary (Aggregated)\": job_info['Salary_avg_agg'],\n",
    "            \"Distance Score\": float(distances[0][rank])\n",
    "        })\n",
    "    return results"
   ]
  },
  {
   "cell_type": "code",
   "execution_count": 3,
   "id": "8a81d6b1",
   "metadata": {},
   "outputs": [
    {
     "name": "stdout",
     "output_type": "stream",
     "text": [
      "INFO:     41.46.64.170:0 - \"POST /recommend HTTP/1.1\" 422 Unprocessable Entity\n",
      "INFO:     41.46.64.170:0 - \"POST /recommend HTTP/1.1\" 200 OK\n"
     ]
    },
    {
     "name": "stderr",
     "output_type": "stream",
     "text": [
      "INFO:     Shutting down\n",
      "INFO:     Waiting for application shutdown.\n",
      "INFO:     Application shutdown complete.\n",
      "INFO:     Finished server process [3396]\n"
     ]
    }
   ],
   "source": [
    "from fastapi import FastAPI\n",
    "from pydantic import BaseModel\n",
    "import nest_asyncio\n",
    "import uvicorn\n",
    "nest_asyncio.apply()\n",
    "app=FastAPI(title='Job recommendation')\n",
    "\n",
    "class Query(BaseModel):\n",
    "    text :str\n",
    "    k: int =3\n",
    "\n",
    "\n",
    "@app.post('/embed')\n",
    "def embed(query : Query):\n",
    "    emb = model.encode([query.text])[0].to_list()\n",
    "    return {\"embedding\":emb}\n",
    "\n",
    "\n",
    "\n",
    "\n",
    "@app.post('/recommend')\n",
    "def recommend(query:Query):\n",
    "    # Encode query\n",
    "    results = predict_top_3_safe(query.text,query.k)\n",
    "\n",
    "    return {\"results\": results}\n",
    "\n",
    "uvicorn.run(app, host=\"127.0.0.1\", port=8000)"
   ]
  },
  {
   "cell_type": "code",
   "execution_count": null,
   "id": "d840deb3",
   "metadata": {},
   "outputs": [],
   "source": []
  }
 ],
 "metadata": {
  "kernelspec": {
   "display_name": "Python 3",
   "language": "python",
   "name": "python3"
  },
  "language_info": {
   "codemirror_mode": {
    "name": "ipython",
    "version": 3
   },
   "file_extension": ".py",
   "mimetype": "text/x-python",
   "name": "python",
   "nbconvert_exporter": "python",
   "pygments_lexer": "ipython3",
   "version": "3.12.7"
  }
 },
 "nbformat": 4,
 "nbformat_minor": 5
}
